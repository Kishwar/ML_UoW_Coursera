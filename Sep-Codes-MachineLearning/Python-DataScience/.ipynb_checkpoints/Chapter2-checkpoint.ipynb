{
 "cells": [
  {
   "cell_type": "code",
   "execution_count": 2,
   "metadata": {
    "collapsed": false
   },
   "outputs": [],
   "source": [
    "from scipy.stats import binom"
   ]
  },
  {
   "cell_type": "code",
   "execution_count": 3,
   "metadata": {
    "collapsed": true
   },
   "outputs": [],
   "source": [
    "import matplotlib.pyplot as plt"
   ]
  },
  {
   "cell_type": "code",
   "execution_count": 28,
   "metadata": {
    "collapsed": false
   },
   "outputs": [
    {
     "data": {
      "image/png": "[encoded data removed]",
      "text/plain": [
       "<matplotlib.figure.Figure at 0x10bdddf50>"
      ]
     },
     "metadata": {},
     "output_type": "display_data"
    }
   ],
   "source": [
    "fig, ax = plt.subplots(1,1)"
   ]
  },
  {
   "cell_type": "code",
   "execution_count": 29,
   "metadata": {
    "collapsed": true
   },
   "outputs": [],
   "source": [
    "x = [0,1,2,3,4,5,6]"
   ]
  },
  {
   "cell_type": "code",
   "execution_count": 30,
   "metadata": {
    "collapsed": true
   },
   "outputs": [],
   "source": [
    "n, p = 6, 0.5"
   ]
  },
  {
   "cell_type": "code",
   "execution_count": 31,
   "metadata": {
    "collapsed": true
   },
   "outputs": [],
   "source": [
    "rv = binom(n,p)"
   ]
  },
  {
   "cell_type": "code",
   "execution_count": 32,
   "metadata": {
    "collapsed": false
   },
   "outputs": [
    {
     "data": {
      "text/plain": [
       "<matplotlib.text.Text at 0x10bcf9c90>"
      ]
     },
     "execution_count": 32,
     "metadata": {},
     "output_type": "execute_result"
    },
    {
     "data": {
      "image/png": "[encoded data removed]",
      "text/plain": [
       "<matplotlib.figure.Figure at 0x10c036290>"
      ]
     },
     "metadata": {},
     "output_type": "display_data"
    }
   ],
   "source": [
    "%matplotlib inline\n",
    "plt.plot(x, rv.pmf(x))\n",
    "plt.xlabel('No. Of Instances')\n",
    "plt.ylabel('Probablity')"
   ]
  },
  {
   "cell_type": "code",
   "execution_count": 26,
   "metadata": {
    "collapsed": false
   },
   "outputs": [
    {
     "data": {
      "text/plain": [
       "<matplotlib.text.Text at 0x10bc30410>"
      ]
     },
     "execution_count": 26,
     "metadata": {},
     "output_type": "execute_result"
    },
    {
     "data": {
      "image/png": "[encoded data removed]",
      "text/plain": [
       "<matplotlib.figure.Figure at 0x10bc5b990>"
      ]
     },
     "metadata": {},
     "output_type": "display_data"
    }
   ],
   "source": [
    "# lets increase number of samples\n",
    "x = range(101)\n",
    "n, p = 100, 0.5\n",
    "rv = binom(n,p)\n",
    "plt.plot(x, rv.pmf(x))\n",
    "plt.xlabel('No. Of Instances')\n",
    "plt.ylabel('Probablity')"
   ]
  },
  {
   "cell_type": "code",
   "execution_count": 38,
   "metadata": {
    "collapsed": false
   },
   "outputs": [
    {
     "data": {
      "text/plain": [
       "array([ 50.,  65.,  60.,  56.,  53.,  61.,  49.,  51.,  44.,  60.,  50.,\n",
       "        57.,  57.,  54.,  57.,  46.,  41.,  51.,  42.,  70.,  50.,  53.,\n",
       "        46.,  48.,  66.,  56.,  61.,  38.,  55.,  44.,  39.,  57.,  49.,\n",
       "        58.,  48.,  53.,  50.,  44.,  48.,  41.,  59.,  41.,  35.,  62.,\n",
       "        60.,  54.,  42.,  40.,  43.,  65.,  52.,  28.,  42.,  48.,  37.,\n",
       "        42.,  55.,  68.,  56.,  38.])"
      ]
     },
     "execution_count": 38,
     "metadata": {},
     "output_type": "execute_result"
    }
   ],
   "source": [
    "import numpy as np\n",
    "classscore = np.random.normal(50,10,60).round()  #50=mean, 10=sd, 60=counts\n",
    "classscore"
   ]
  },
  {
   "cell_type": "code",
   "execution_count": 39,
   "metadata": {
    "collapsed": false
   },
   "outputs": [
    {
     "data": {
      "text/plain": [
       "(array([ 0.01190476,  0.        ,  0.        ,  0.        ,  0.        ,\n",
       "         0.01190476,  0.01190476,  0.03571429,  0.01190476,  0.03571429,\n",
       "         0.05952381,  0.03571429,  0.02380952,  0.        ,  0.04761905,\n",
       "         0.07142857,  0.02380952,  0.04761905,  0.02380952,  0.02380952,\n",
       "         0.08333333,  0.01190476,  0.04761905,  0.02380952,  0.01190476,\n",
       "         0.        ,  0.02380952,  0.01190476,  0.01190476,  0.01190476]),\n",
       " array([ 28. ,  29.4,  30.8,  32.2,  33.6,  35. ,  36.4,  37.8,  39.2,\n",
       "         40.6,  42. ,  43.4,  44.8,  46.2,  47.6,  49. ,  50.4,  51.8,\n",
       "         53.2,  54.6,  56. ,  57.4,  58.8,  60.2,  61.6,  63. ,  64.4,\n",
       "         65.8,  67.2,  68.6,  70. ]),\n",
       " <a list of 30 Patch objects>)"
      ]
     },
     "execution_count": 39,
     "metadata": {},
     "output_type": "execute_result"
    },
    {
     "data": {
      "image/png": "[encoded data removed]",
      "text/plain": [
       "<matplotlib.figure.Figure at 0x10bd9d4d0>"
      ]
     },
     "metadata": {},
     "output_type": "display_data"
    }
   ],
   "source": [
    "plt.hist(classscore, 30, normed=True) #Number of breaks is 30"
   ]
  },
  {
   "cell_type": "code",
   "execution_count": 40,
   "metadata": {
    "collapsed": true
   },
   "outputs": [],
   "source": []
  },
  {
   "cell_type": "code",
   "execution_count": null,
   "metadata": {
    "collapsed": true
   },
   "outputs": [],
   "source": []
  }
 ],
 "metadata": {
  "kernelspec": {
   "display_name": "Python 2",
   "language": "python",
   "name": "python2"
  },
  "language_info": {
   "codemirror_mode": {
    "name": "ipython",
    "version": 2
   },
   "file_extension": ".py",
   "mimetype": "text/x-python",
   "name": "python",
   "nbconvert_exporter": "python",
   "pygments_lexer": "ipython2",
   "version": "2.7.10"
  }
 },
 "nbformat": 4,
 "nbformat_minor": 0
}
