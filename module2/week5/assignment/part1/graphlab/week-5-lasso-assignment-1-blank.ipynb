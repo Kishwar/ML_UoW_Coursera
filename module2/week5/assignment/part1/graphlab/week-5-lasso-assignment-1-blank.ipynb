{
 "cells": [
  {
   "cell_type": "markdown",
   "metadata": {},
   "source": [
    "# Regression Week 5: Feature Selection and LASSO (Interpretation)"
   ]
  },
  {
   "cell_type": "markdown",
   "metadata": {},
   "source": [
    "In this notebook, you will use LASSO to select features, building on a pre-implemented solver for LASSO (using GraphLab Create, though you can use other solvers). You will:\n",
    "* Run LASSO with different L1 penalties.\n",
    "* Choose best L1 penalty using a validation set.\n",
    "* Choose best L1 penalty using a validation set, with additional constraint on the size of subset.\n",
    "\n",
    "In the second notebook, you will implement your own LASSO solver, using coordinate descent. "
   ]
  },
  {
   "cell_type": "markdown",
   "metadata": {},
   "source": [
    "# Fire up graphlab create"
   ]
  },
  {
   "cell_type": "code",
   "execution_count": 216,
   "metadata": {
    "collapsed": true
   },
   "outputs": [],
   "source": [
    "import graphlab"
   ]
  },
  {
   "cell_type": "markdown",
   "metadata": {},
   "source": [
    "# Load in house sales data\n",
    "\n",
    "Dataset is from house sales in King County, the region where the city of Seattle, WA is located."
   ]
  },
  {
   "cell_type": "code",
   "execution_count": 217,
   "metadata": {
    "collapsed": false,
    "scrolled": true
   },
   "outputs": [],
   "source": [
    "sales = graphlab.SFrame('kc_house_data/')"
   ]
  },
  {
   "cell_type": "markdown",
   "metadata": {},
   "source": [
    "# Create new features"
   ]
  },
  {
   "cell_type": "markdown",
   "metadata": {},
   "source": [
    "As in Week 2, we consider features that are some transformations of inputs."
   ]
  },
  {
   "cell_type": "code",
   "execution_count": 218,
   "metadata": {
    "collapsed": true
   },
   "outputs": [],
   "source": [
    "from math import log, sqrt\n",
    "sales['sqft_living_sqrt'] = sales['sqft_living'].apply(sqrt)\n",
    "sales['sqft_lot_sqrt'] = sales['sqft_lot'].apply(sqrt)\n",
    "sales['bedrooms_square'] = sales['bedrooms']*sales['bedrooms']\n",
    "\n",
    "# In the dataset, 'floors' was defined with type string, \n",
    "# so we'll convert them to float, before creating a new feature.\n",
    "sales['floors'] = sales['floors'].astype(float) \n",
    "sales['floors_square'] = sales['floors']*sales['floors']"
   ]
  },
  {
   "cell_type": "markdown",
   "metadata": {},
   "source": [
    "* Squaring bedrooms will increase the separation between not many bedrooms (e.g. 1) and lots of bedrooms (e.g. 4) since 1^2 = 1 but 4^2 = 16. Consequently this variable will mostly affect houses with many bedrooms.\n",
    "* On the other hand, taking square root of sqft_living will decrease the separation between big house and small house. The owner may not be exactly twice as happy for getting a house that is twice as big."
   ]
  },
  {
   "cell_type": "markdown",
   "metadata": {},
   "source": [
    "# Learn regression weights with L1 penalty"
   ]
  },
  {
   "cell_type": "markdown",
   "metadata": {},
   "source": [
    "Let us fit a model with all the features available, plus the features we just created above."
   ]
  },
  {
   "cell_type": "code",
   "execution_count": 219,
   "metadata": {
    "collapsed": false
   },
   "outputs": [],
   "source": [
    "all_features = ['bedrooms', 'bedrooms_square',\n",
    "            'bathrooms',\n",
    "            'sqft_living', 'sqft_living_sqrt',\n",
    "            'sqft_lot', 'sqft_lot_sqrt',\n",
    "            'floors', 'floors_square',\n",
    "            'waterfront', 'view', 'condition', 'grade',\n",
    "            'sqft_above',\n",
    "            'sqft_basement',\n",
    "            'yr_built', 'yr_renovated']"
   ]
  },
  {
   "cell_type": "markdown",
   "metadata": {},
   "source": [
    "Applying L1 penalty requires adding an extra parameter (`l1_penalty`) to the linear regression call in GraphLab Create. (Other tools may have separate implementations of LASSO.)  Note that it's important to set `l2_penalty=0` to ensure we don't introduce an additional L2 penalty."
   ]
  },
  {
   "cell_type": "code",
   "execution_count": 220,
   "metadata": {
    "collapsed": false
   },
   "outputs": [
    {
     "name": "stdout",
     "output_type": "stream",
     "text": [
      "PROGRESS: Linear regression:\n",
      "PROGRESS: --------------------------------------------------------\n",
      "PROGRESS: Number of examples          : 21613\n",
      "PROGRESS: Number of features          : 17\n",
      "PROGRESS: Number of unpacked features : 17\n",
      "PROGRESS: Number of coefficients    : 18\n",
      "PROGRESS: Starting Accelerated Gradient (FISTA)\n",
      "PROGRESS: --------------------------------------------------------\n",
      "PROGRESS: +-----------+----------+-----------+--------------+--------------------+---------------+\n",
      "PROGRESS: | Iteration | Passes   | Step size | Elapsed Time | Training-max_error | Training-rmse |\n",
      "PROGRESS: +-----------+----------+-----------+--------------+--------------------+---------------+\n",
      "PROGRESS: Tuning step size. First iteration could take longer than subsequent iterations.\n",
      "PROGRESS: | 1         | 2        | 0.000002  | 0.646758     | 6962915.603493     | 426631.749026 |\n",
      "PROGRESS: | 2         | 3        | 0.000002  | 0.723130     | 6843144.200219     | 392488.929838 |\n",
      "PROGRESS: | 3         | 4        | 0.000002  | 0.784228     | 6831900.032123     | 385340.166783 |\n",
      "PROGRESS: | 4         | 5        | 0.000002  | 0.837033     | 6847166.848958     | 384842.383767 |\n",
      "PROGRESS: | 5         | 6        | 0.000002  | 0.883073     | 6869667.895833     | 385998.458623 |\n",
      "PROGRESS: | 6         | 7        | 0.000002  | 0.929573     | 6847177.773672     | 380824.455891 |\n",
      "PROGRESS: +-----------+----------+-----------+--------------+--------------------+---------------+\n",
      "PROGRESS: TERMINATED: Iteration limit reached.\n",
      "PROGRESS: This model may not be optimal. To improve it, consider increasing `max_iterations`.\n"
     ]
    }
   ],
   "source": [
    "model_all = graphlab.linear_regression.create(sales, target='price', features=all_features,\n",
    "                                              validation_set=None, \n",
    "                                              l2_penalty=0., l1_penalty=1e10)"
   ]
  },
  {
   "cell_type": "markdown",
   "metadata": {},
   "source": [
    "Find what features had non-zero weight."
   ]
  },
  {
   "cell_type": "code",
   "execution_count": 221,
   "metadata": {
    "collapsed": false
   },
   "outputs": [
    {
     "name": "stdout",
     "output_type": "stream",
     "text": [
      "+------------------+-------+---------------+\n",
      "|       name       | index |     value     |\n",
      "+------------------+-------+---------------+\n",
      "|   (intercept)    |  None |  274873.05595 |\n",
      "|     bedrooms     |  None |      0.0      |\n",
      "| bedrooms_square  |  None |      0.0      |\n",
      "|    bathrooms     |  None | 8468.53108691 |\n",
      "|   sqft_living    |  None | 24.4207209824 |\n",
      "| sqft_living_sqrt |  None | 350.060553386 |\n",
      "|     sqft_lot     |  None |      0.0      |\n",
      "|  sqft_lot_sqrt   |  None |      0.0      |\n",
      "|      floors      |  None |      0.0      |\n",
      "|  floors_square   |  None |      0.0      |\n",
      "|    waterfront    |  None |      0.0      |\n",
      "|       view       |  None |      0.0      |\n",
      "|    condition     |  None |      0.0      |\n",
      "|      grade       |  None | 842.068034898 |\n",
      "|    sqft_above    |  None | 20.0247224171 |\n",
      "|  sqft_basement   |  None |      0.0      |\n",
      "|     yr_built     |  None |      0.0      |\n",
      "|   yr_renovated   |  None |      0.0      |\n",
      "+------------------+-------+---------------+\n",
      "[18 rows x 3 columns]\n",
      "\n",
      "None\n"
     ]
    }
   ],
   "source": [
    "# Print all coefficients\n",
    "print model_all.get(\"coefficients\").print_rows(num_rows=20, num_columns=5)"
   ]
  },
  {
   "cell_type": "code",
   "execution_count": 222,
   "metadata": {
    "collapsed": false
   },
   "outputs": [
    {
     "name": "stdout",
     "output_type": "stream",
     "text": [
      "+------------------+-------+---------------+\n",
      "|       name       | index |     value     |\n",
      "+------------------+-------+---------------+\n",
      "|   (intercept)    |  None |  274873.05595 |\n",
      "|    bathrooms     |  None | 8468.53108691 |\n",
      "|   sqft_living    |  None | 24.4207209824 |\n",
      "| sqft_living_sqrt |  None | 350.060553386 |\n",
      "|      grade       |  None | 842.068034898 |\n",
      "|    sqft_above    |  None | 20.0247224171 |\n",
      "+------------------+-------+---------------+\n",
      "[6 rows x 3 columns]\n",
      "\n",
      "None\n"
     ]
    }
   ],
   "source": [
    "# Print only with non-zero values\n",
    "CoEff = model_all.get(\"coefficients\")\n",
    "coEffNonZero = CoEff[CoEff['value'] > 0]\n",
    "print coEffNonZero.print_rows(num_rows=20, num_columns=5)"
   ]
  },
  {
   "cell_type": "markdown",
   "metadata": {},
   "source": [
    "Note that a majority of the weights have been set to zero. So by setting an L1 penalty that's large enough, we are performing a subset selection. \n",
    "\n",
    "***QUIZ QUESTION***:\n",
    "According to this list of weights, which of the features have been chosen? "
   ]
  },
  {
   "cell_type": "markdown",
   "metadata": {},
   "source": [
    "# Selecting an L1 penalty"
   ]
  },
  {
   "cell_type": "markdown",
   "metadata": {},
   "source": [
    "To find a good L1 penalty, we will explore multiple values using a validation set. Let us do three way split into train, validation, and test sets:\n",
    "* Split our sales data into 2 sets: training and test\n",
    "* Further split our training data into two sets: train, validation\n",
    "\n",
    "Be *very* careful that you use seed = 1 to ensure you get the same answer!"
   ]
  },
  {
   "cell_type": "code",
   "execution_count": 223,
   "metadata": {
    "collapsed": true
   },
   "outputs": [],
   "source": [
    "(training_and_validation, testing) = sales.random_split(.9,seed=1) # initial train/test split\n",
    "(training, validation) = training_and_validation.random_split(0.5, seed=1) # split training into train and validate"
   ]
  },
  {
   "cell_type": "markdown",
   "metadata": {},
   "source": [
    "Next, we write a loop that does the following:\n",
    "* For `l1_penalty` in [10^1, 10^1.5, 10^2, 10^2.5, ..., 10^7] (to get this in Python, type `np.logspace(1, 7, num=13)`.)\n",
    "    * Fit a regression model with a given `l1_penalty` on TRAIN data. Specify `l1_penalty=l1_penalty` and `l2_penalty=0.` in the parameter list.\n",
    "    * Compute the RSS on VALIDATION data (here you will want to use `.predict()`) for that `l1_penalty`\n",
    "* Report which `l1_penalty` produced the lowest RSS on validation data.\n",
    "\n",
    "When you call `linear_regression.create()` make sure you set `validation_set = None`.\n",
    "\n",
    "Note: you can turn off the print out of `linear_regression.create()` with `verbose = False`"
   ]
  },
  {
   "cell_type": "code",
   "execution_count": 224,
   "metadata": {
    "collapsed": false
   },
   "outputs": [
    {
     "name": "stdout",
     "output_type": "stream",
     "text": [
      "l1_penalty=1.000000e+01, RSS=625766285142459.88, RSS=6.257663e+14\n",
      "l1_penalty=3.162278e+01, RSS=625766285362394.12, RSS=6.257663e+14\n",
      "l1_penalty=1.000000e+02, RSS=625766286057885.00, RSS=6.257663e+14\n",
      "l1_penalty=3.162278e+02, RSS=625766288257224.62, RSS=6.257663e+14\n",
      "l1_penalty=1.000000e+03, RSS=625766295212186.75, RSS=6.257663e+14\n",
      "l1_penalty=3.162278e+03, RSS=625766317206080.50, RSS=6.257663e+14\n",
      "l1_penalty=1.000000e+04, RSS=625766386760658.12, RSS=6.257664e+14\n",
      "l1_penalty=3.162278e+04, RSS=625766606749278.50, RSS=6.257666e+14\n",
      "l1_penalty=1.000000e+05, RSS=625767302791634.12, RSS=6.257673e+14\n",
      "l1_penalty=3.162278e+05, RSS=625769507643886.25, RSS=6.257695e+14\n",
      "l1_penalty=1.000000e+06, RSS=625776517727024.00, RSS=6.257765e+14\n",
      "l1_penalty=3.162278e+06, RSS=625799062845467.00, RSS=6.257991e+14\n",
      "l1_penalty=1.000000e+07, RSS=625883719085425.25, RSS=6.258837e+14\n"
     ]
    }
   ],
   "source": [
    "import numpy as np\n",
    "l1_penalty = np.logspace(1, 7, num=13)  # [10^1, 10^1.5, 10^2, 10^2.5, ..., 10^7]\n",
    "RSS = 0\n",
    "DicTionary = dict()\n",
    "for p in l1_penalty:\n",
    "    model = graphlab.linear_regression.create(training, target='price', \n",
    "                                              features=all_features,\n",
    "                                              l2_penalty=0., l1_penalty=p,\n",
    "                                              verbose=False, validation_set=None)\n",
    "    pOut = model.predict(validation)\n",
    "    RSS = ((validation['price'] - pOut)**2).sum()\n",
    "    print(\"l1_penalty=%e, RSS=%.2f, RSS=%e\" %(p, RSS, RSS))\n",
    "    DicTionary[p] = RSS"
   ]
  },
  {
   "cell_type": "code",
   "execution_count": 225,
   "metadata": {
    "collapsed": false
   },
   "outputs": [
    {
     "name": "stdout",
     "output_type": "stream",
     "text": [
      "#Question: What was the best value for the l1_penalty?\n",
      "l1_penalty=10.00, RSS=6.257663e+14\n"
     ]
    }
   ],
   "source": [
    "import operator\n",
    "print('#Question: What was the best value for the l1_penalty?')\n",
    "print('l1_penalty=%.2f, RSS=%e' \\\n",
    "          % (sorted(DicTionary.items(), key=operator.itemgetter(1))[0][0], \\\n",
    "            sorted(DicTionary.items(), key=operator.itemgetter(1))[0][1]))"
   ]
  },
  {
   "cell_type": "markdown",
   "metadata": {},
   "source": [
    "*** QUIZ QUESTIONS ***\n",
    "1. What was the best value for the `l1_penalty`?\n",
    "2. What is the RSS on TEST data of the model with the best `l1_penalty`?"
   ]
  },
  {
   "cell_type": "code",
   "execution_count": 226,
   "metadata": {
    "collapsed": false
   },
   "outputs": [
    {
     "name": "stdout",
     "output_type": "stream",
     "text": [
      "#Question: What is the RSS on TEST data of the model with the best l1_penalty?\n",
      "l1_penalty=1.000000e+01, RSS=156983602381664.19, RSS=1.569836e+14\n"
     ]
    }
   ],
   "source": [
    "model = graphlab.linear_regression.create(training, target='price', \n",
    "                    features=all_features, l2_penalty=0., \n",
    "                    l1_penalty=sorted(DicTionary.items(), key=operator.itemgetter(1))[0][0],\n",
    "                    verbose=False, validation_set=None)\n",
    "RSS = 0\n",
    "print('#Question: What is the RSS on TEST data of the model with the best l1_penalty?')\n",
    "pOut = model.predict(testing)\n",
    "RSS = ((testing['price'] - pOut)**2).sum()\n",
    "l1_penalty = sorted(DicTionary.items(), key=operator.itemgetter(1))[0][0]\n",
    "print(\"l1_penalty=%e, RSS=%.2f, RSS=%e\" %(l1_penalty, RSS, RSS))"
   ]
  },
  {
   "cell_type": "markdown",
   "metadata": {},
   "source": [
    "***QUIZ QUESTION***\n",
    "Also, using this value of L1 penalty, how many nonzero weights do you have?"
   ]
  },
  {
   "cell_type": "code",
   "execution_count": 227,
   "metadata": {
    "collapsed": false
   },
   "outputs": [
    {
     "name": "stdout",
     "output_type": "stream",
     "text": [
      "Question: Also, using this value of L1 penalty, how many nonzero weights do you have?\n",
      "NonZeroCoEff=18\n",
      "+------------------+-------+------------------+\n",
      "|       name       | index |      value       |\n",
      "+------------------+-------+------------------+\n",
      "|   (intercept)    |  None |  18993.4272128   |\n",
      "|     bedrooms     |  None |  7936.96767903   |\n",
      "| bedrooms_square  |  None |  936.993368193   |\n",
      "|    bathrooms     |  None |  25409.5889341   |\n",
      "|   sqft_living    |  None |  39.1151363797   |\n",
      "| sqft_living_sqrt |  None |  1124.65021281   |\n",
      "|     sqft_lot     |  None | 0.00348361822299 |\n",
      "|  sqft_lot_sqrt   |  None |  148.258391011   |\n",
      "|      floors      |  None |   21204.335467   |\n",
      "|  floors_square   |  None |  12915.5243361   |\n",
      "|    waterfront    |  None |  601905.594545   |\n",
      "|       view       |  None |  93312.8573119   |\n",
      "|    condition     |  None |  6609.03571245   |\n",
      "|      grade       |  None |  6206.93999188   |\n",
      "|    sqft_above    |  None |  43.2870534193   |\n",
      "|  sqft_basement   |  None |  122.367827534   |\n",
      "|     yr_built     |  None |  9.43363539372   |\n",
      "|   yr_renovated   |  None |  56.0720034488   |\n",
      "+------------------+-------+------------------+\n",
      "[18 rows x 3 columns]\n",
      "\n",
      "None\n"
     ]
    }
   ],
   "source": [
    "# Print only with non-zero values\n",
    "CoEff = model.get(\"coefficients\")\n",
    "coEffNonZero = CoEff[CoEff['value'] > 0]\n",
    "print('Question: Also, using this value of L1 penalty, how many nonzero weights do you have?')\n",
    "print('NonZeroCoEff=%d' %len(coEffNonZero))\n",
    "print coEffNonZero.print_rows(num_rows=20, num_columns=5)"
   ]
  },
  {
   "cell_type": "markdown",
   "metadata": {},
   "source": [
    "# Limit the number of nonzero weights\n",
    "\n",
    "What if we absolutely wanted to limit ourselves to, say, 7 features? This may be important if we want to derive \"a rule of thumb\" --- an interpretable model that has only a few features in them."
   ]
  },
  {
   "cell_type": "markdown",
   "metadata": {},
   "source": [
    "In this section, you are going to implement a simple, two phase procedure to achive this goal:\n",
    "1. Explore a large range of `l1_penalty` values to find a narrow region of `l1_penalty` values where models are likely to have the desired number of non-zero weights.\n",
    "2. Further explore the narrow region you found to find a good value for `l1_penalty` that achieves the desired sparsity.  Here, we will again use a validation set to choose the best value for `l1_penalty`."
   ]
  },
  {
   "cell_type": "code",
   "execution_count": 228,
   "metadata": {
    "collapsed": true
   },
   "outputs": [],
   "source": [
    "max_nonzeros = 7"
   ]
  },
  {
   "cell_type": "markdown",
   "metadata": {},
   "source": [
    "## Exploring the larger range of values to find a narrow range with the desired sparsity\n",
    "\n",
    "Let's define a wide range of possible `l1_penalty_values`:"
   ]
  },
  {
   "cell_type": "code",
   "execution_count": 229,
   "metadata": {
    "collapsed": false
   },
   "outputs": [],
   "source": [
    "l1_penalty_values = np.logspace(8, 10, num=20)"
   ]
  },
  {
   "cell_type": "markdown",
   "metadata": {},
   "source": [
    "Now, implement a loop that search through this space of possible `l1_penalty` values:\n",
    "\n",
    "* For `l1_penalty` in `np.logspace(8, 10, num=20)`:\n",
    "    * Fit a regression model with a given `l1_penalty` on TRAIN data. Specify `l1_penalty=l1_penalty` and `l2_penalty=0.` in the parameter list. When you call `linear_regression.create()` make sure you set `validation_set = None`\n",
    "    * Extract the weights of the model and count the number of nonzeros. Save the number of nonzeros to a list.\n",
    "        * *Hint: `model['coefficients']['value']` gives you an SArray with the parameters you learned.  If you call the method `.nnz()` on it, you will find the number of non-zero parameters!* "
   ]
  },
  {
   "cell_type": "code",
   "execution_count": 230,
   "metadata": {
    "collapsed": true
   },
   "outputs": [],
   "source": [
    "DictMore = dict()\n",
    "DictLess = dict()\n",
    "for p in l1_penalty_values:\n",
    "    model = graphlab.linear_regression.create(training, target='price', \n",
    "                                              features=all_features,\n",
    "                                              l2_penalty=0., l1_penalty=p,\n",
    "                                              verbose=False, validation_set=None)\n",
    "    CoEff = model.get(\"coefficients\")\n",
    "    coEffNonZero = CoEff[CoEff['value'] > 0]\n",
    "    if len(coEffNonZero) > max_nonzeros:\n",
    "        DictMore[p] = len(coEffNonZero)\n",
    "    else:\n",
    "        DictLess[p] = len(coEffNonZero)"
   ]
  },
  {
   "cell_type": "markdown",
   "metadata": {},
   "source": [
    "Out of this large range, we want to find the two ends of our desired narrow range of `l1_penalty`.  At one end, we will have `l1_penalty` values that have too few non-zeros, and at the other end, we will have an `l1_penalty` that has too many non-zeros.  \n",
    "\n",
    "More formally, find:\n",
    "* The largest `l1_penalty` that has more non-zeros than `max_nonzero` (if we pick a penalty smaller than this value, we will definitely have too many non-zero weights)\n",
    "    * Store this value in the variable `l1_penalty_min` (we will use it later)\n",
    "* The smallest `l1_penalty` that has fewer non-zeros than `max_nonzero` (if we pick a penalty larger than this value, we will definitely have too few non-zero weights)\n",
    "    * Store this value in the variable `l1_penalty_max` (we will use it later)\n",
    "\n",
    "\n",
    "*Hint: there are many ways to do this, e.g.:*\n",
    "* Programmatically within the loop above\n",
    "* Creating a list with the number of non-zeros for each value of `l1_penalty` and inspecting it to find the appropriate boundaries."
   ]
  },
  {
   "cell_type": "code",
   "execution_count": 231,
   "metadata": {
    "collapsed": false
   },
   "outputs": [
    {
     "name": "stdout",
     "output_type": "stream",
     "text": [
      "Question: What values did you find for l1_penalty_min andl1_penalty_max?\n",
      "l1_penalty_min=2976351442, l1_penalty_max=3792690191\n",
      "l1_penalty_W_min=10, l1_penalty_W_max=6\n"
     ]
    }
   ],
   "source": [
    "l1_penalty_min = sorted(DictMore.items(), key=operator.itemgetter(1), reverse=False)[0][0]\n",
    "l1_penalty_max = sorted(DictLess.items(), key=operator.itemgetter(1), reverse=True)[0][0]\n",
    "l1_penalty_W_min = sorted(DictMore.items(), key=operator.itemgetter(1), reverse=False)[0][1]\n",
    "l1_penalty_W_max = sorted(DictLess.items(), key=operator.itemgetter(1), reverse=True)[0][1]\n",
    "print('Question: What values did you find for l1_penalty_min andl1_penalty_max?')\n",
    "print('l1_penalty_min=%.f, l1_penalty_max=%.f' %(l1_penalty_min, l1_penalty_max))\n",
    "print('l1_penalty_W_min=%d, l1_penalty_W_max=%d' %(l1_penalty_W_min, l1_penalty_W_max))"
   ]
  },
  {
   "cell_type": "markdown",
   "metadata": {},
   "source": [
    "***QUIZ QUESTIONS***\n",
    "\n",
    "What values did you find for `l1_penalty_min` and`l1_penalty_max`? "
   ]
  },
  {
   "cell_type": "markdown",
   "metadata": {},
   "source": [
    "## Exploring the narrow range of values to find the solution with the right number of non-zeros that has lowest RSS on the validation set \n",
    "\n",
    "We will now explore the narrow region of `l1_penalty` values we found:"
   ]
  },
  {
   "cell_type": "code",
   "execution_count": 232,
   "metadata": {
    "collapsed": true
   },
   "outputs": [],
   "source": [
    "l1_penalty_values = np.linspace(l1_penalty_min,l1_penalty_max,20)"
   ]
  },
  {
   "cell_type": "markdown",
   "metadata": {},
   "source": [
    "* For `l1_penalty` in `np.linspace(l1_penalty_min,l1_penalty_max,20)`:\n",
    "    * Fit a regression model with a given `l1_penalty` on TRAIN data. Specify `l1_penalty=l1_penalty` and `l2_penalty=0.` in the parameter list. When you call `linear_regression.create()` make sure you set `validation_set = None`\n",
    "    * Measure the RSS of the learned model on the VALIDATION set\n",
    "\n",
    "Find the model that the lowest RSS on the VALIDATION set and has sparsity *equal* to `max_nonzero`."
   ]
  },
  {
   "cell_type": "code",
   "execution_count": 233,
   "metadata": {
    "collapsed": false
   },
   "outputs": [
    {
     "name": "stdout",
     "output_type": "stream",
     "text": [
      "l1_penalty=2.976351e+09, RSS=966925692362084.50, RSS=9.669257e+14\n",
      "l1_penalty=3.019317e+09, RSS=974019450084556.12, RSS=9.740195e+14\n",
      "l1_penalty=3.062282e+09, RSS=981188367942452.75, RSS=9.811884e+14\n",
      "l1_penalty=3.105247e+09, RSS=989328342459474.00, RSS=9.893283e+14\n",
      "l1_penalty=3.148212e+09, RSS=998783211265891.25, RSS=9.987832e+14\n",
      "l1_penalty=3.191177e+09, RSS=1008477167020094.00, RSS=1.008477e+15\n",
      "l1_penalty=3.234143e+09, RSS=1018298780553819.75, RSS=1.018299e+15\n",
      "l1_penalty=3.277108e+09, RSS=1028247992205977.25, RSS=1.028248e+15\n",
      "l1_penalty=3.320073e+09, RSS=1034616909232828.12, RSS=1.034617e+15\n",
      "l1_penalty=3.363038e+09, RSS=1038554735941040.75, RSS=1.038555e+15\n",
      "l1_penalty=3.406003e+09, RSS=1043237237871703.00, RSS=1.043237e+15\n",
      "l1_penalty=3.448969e+09, RSS=1046937488751711.12, RSS=1.046937e+15\n",
      "l1_penalty=3.491934e+09, RSS=1051147625612860.88, RSS=1.051148e+15\n",
      "l1_penalty=3.534899e+09, RSS=1055992735342999.12, RSS=1.055993e+15\n",
      "l1_penalty=3.577864e+09, RSS=1060799531763287.75, RSS=1.060800e+15\n",
      "l1_penalty=3.620829e+09, RSS=1065707689498230.12, RSS=1.065708e+15\n",
      "l1_penalty=3.663795e+09, RSS=1069464335425586.50, RSS=1.069464e+15\n",
      "l1_penalty=3.706760e+09, RSS=1073504549585599.62, RSS=1.073505e+15\n",
      "l1_penalty=3.749725e+09, RSS=1077632775581416.00, RSS=1.077633e+15\n",
      "l1_penalty=3.792690e+09, RSS=1081867592324110.62, RSS=1.081868e+15\n"
     ]
    }
   ],
   "source": [
    "DictFinal = dict()\n",
    "for p in l1_penalty_values:\n",
    "    model = graphlab.linear_regression.create(training, target='price', \n",
    "                                              features=all_features,\n",
    "                                              l2_penalty=0., l1_penalty=p,\n",
    "                                              verbose=False, validation_set=None)\n",
    "    pOut = model.predict(validation)\n",
    "    RSS = ((validation['price'] - pOut)**2).sum()\n",
    "    print(\"l1_penalty=%e, RSS=%.2f, RSS=%e\" %(p, RSS, RSS))\n",
    "    DictFinal[p] = RSS"
   ]
  },
  {
   "cell_type": "markdown",
   "metadata": {},
   "source": [
    "***QUIZ QUESTIONS***\n",
    "1. What value of `l1_penalty` in our narrow range has the lowest RSS on the VALIDATION set and has sparsity *equal* to `max_nonzeros`?\n",
    "2. What features in this model have non-zero coefficients?"
   ]
  },
  {
   "cell_type": "code",
   "execution_count": 234,
   "metadata": {
    "collapsed": false
   },
   "outputs": [
    {
     "name": "stdout",
     "output_type": "stream",
     "text": [
      "Question: What value of l1_penalty in our narrow range has the lowest RSS on the VALIDATION set and has sparsity equal to max_nonzeros?\n",
      "break.. we found it..\n",
      "l1_penalty=3448968612\n",
      "+------------------+-------+---------------+\n",
      "|       name       | index |     value     |\n",
      "+------------------+-------+---------------+\n",
      "|   (intercept)    |  None | 222253.192544 |\n",
      "|     bedrooms     |  None | 661.722717782 |\n",
      "|    bathrooms     |  None | 15873.9572593 |\n",
      "|   sqft_living    |  None | 32.4102214513 |\n",
      "| sqft_living_sqrt |  None | 690.114773313 |\n",
      "|      grade       |  None | 2899.42026975 |\n",
      "|    sqft_above    |  None | 30.0115753022 |\n",
      "+------------------+-------+---------------+\n",
      "[7 rows x 3 columns]\n",
      "\n",
      "None\n"
     ]
    }
   ],
   "source": [
    "print('Question: What value of l1_penalty in our narrow range has the lowest RSS on the VALIDATION set and has sparsity equal to max_nonzeros?')\n",
    "SortedList = sorted(DictFinal.items(), key=operator.itemgetter(1))\n",
    "for i in xrange(len(SortedList)):\n",
    "    l1_penalty = SortedList[i][0]\n",
    "    model = graphlab.linear_regression.create(training, target='price', \n",
    "                                              features=all_features,\n",
    "                                              l2_penalty=0., l1_penalty=l1_penalty,\n",
    "                                              verbose=False, validation_set=None)\n",
    "    pOut = model.predict(validation)\n",
    "    RSS = ((validation['price'] - pOut)**2).sum()\n",
    "    if(RSS != SortedList[i][1]):\n",
    "        print(\"Problem!!!\")\n",
    "        break\n",
    "    CoEff = model.get(\"coefficients\")\n",
    "    coEffNonZero = CoEff[CoEff['value'] > 0]\n",
    "    if(len(coEffNonZero) == max_nonzeros):\n",
    "        print('break.. we found it..')\n",
    "        break\n",
    "    \n",
    "print('l1_penalty=%d' % l1_penalty)\n",
    "print coEffNonZero.print_rows(num_rows=20, num_columns=5)"
   ]
  },
  {
   "cell_type": "code",
   "execution_count": null,
   "metadata": {
    "collapsed": true
   },
   "outputs": [],
   "source": []
  }
 ],
 "metadata": {
  "kernelspec": {
   "display_name": "Python 2",
   "language": "python",
   "name": "python2"
  },
  "language_info": {
   "codemirror_mode": {
    "name": "ipython",
    "version": 2
   },
   "file_extension": ".py",
   "mimetype": "text/x-python",
   "name": "python",
   "nbconvert_exporter": "python",
   "pygments_lexer": "ipython2",
   "version": "2.7.10"
  }
 },
 "nbformat": 4,
 "nbformat_minor": 0
}
